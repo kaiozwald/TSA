{
 "cells": [
  {
   "cell_type": "code",
   "execution_count": 1177,
   "id": "7a73cfa7",
   "metadata": {},
   "outputs": [],
   "source": [
    "import pandas as pd\n",
    "import numpy as np\n",
    "from nltk.stem import WordNetLemmatizer\n",
    "lemmatizer=WordNetLemmatizer()\n",
    "from nltk.tokenize import word_tokenize\n",
    "from nltk.stem import PorterStemmer\n",
    "from sklearn.metrics import accuracy_score\n",
    "stemmer=PorterStemmer()\n",
    "import spacy \n",
    "nlp= spacy.load(\"en_core_web_sm\")"
   ]
  },
  {
   "cell_type": "code",
   "execution_count": 1178,
   "id": "b759391b",
   "metadata": {},
   "outputs": [],
   "source": [
    "import re"
   ]
  },
  {
   "cell_type": "code",
   "execution_count": 1179,
   "id": "65710714",
   "metadata": {},
   "outputs": [
    {
     "data": {
      "text/html": [
       "<div>\n",
       "<style scoped>\n",
       "    .dataframe tbody tr th:only-of-type {\n",
       "        vertical-align: middle;\n",
       "    }\n",
       "\n",
       "    .dataframe tbody tr th {\n",
       "        vertical-align: top;\n",
       "    }\n",
       "\n",
       "    .dataframe thead th {\n",
       "        text-align: right;\n",
       "    }\n",
       "</style>\n",
       "<table border=\"1\" class=\"dataframe\">\n",
       "  <thead>\n",
       "    <tr style=\"text-align: right;\">\n",
       "      <th></th>\n",
       "      <th>id</th>\n",
       "      <th>label</th>\n",
       "      <th>tweet</th>\n",
       "    </tr>\n",
       "  </thead>\n",
       "  <tbody>\n",
       "    <tr>\n",
       "      <th>0</th>\n",
       "      <td>1</td>\n",
       "      <td>0</td>\n",
       "      <td>#fingerprint #Pregnancy Test https://goo.gl/h1...</td>\n",
       "    </tr>\n",
       "    <tr>\n",
       "      <th>1</th>\n",
       "      <td>2</td>\n",
       "      <td>0</td>\n",
       "      <td>Finally a transparant silicon case ^^ Thanks t...</td>\n",
       "    </tr>\n",
       "    <tr>\n",
       "      <th>2</th>\n",
       "      <td>3</td>\n",
       "      <td>0</td>\n",
       "      <td>We love this! Would you go? #talk #makememorie...</td>\n",
       "    </tr>\n",
       "    <tr>\n",
       "      <th>3</th>\n",
       "      <td>4</td>\n",
       "      <td>0</td>\n",
       "      <td>I'm wired I know I'm George I was made that wa...</td>\n",
       "    </tr>\n",
       "    <tr>\n",
       "      <th>4</th>\n",
       "      <td>5</td>\n",
       "      <td>1</td>\n",
       "      <td>What amazing service! Apple won't even talk to...</td>\n",
       "    </tr>\n",
       "  </tbody>\n",
       "</table>\n",
       "</div>"
      ],
      "text/plain": [
       "   id  label                                              tweet\n",
       "0   1      0  #fingerprint #Pregnancy Test https://goo.gl/h1...\n",
       "1   2      0  Finally a transparant silicon case ^^ Thanks t...\n",
       "2   3      0  We love this! Would you go? #talk #makememorie...\n",
       "3   4      0  I'm wired I know I'm George I was made that wa...\n",
       "4   5      1  What amazing service! Apple won't even talk to..."
      ]
     },
     "execution_count": 1179,
     "metadata": {},
     "output_type": "execute_result"
    }
   ],
   "source": [
    "data=pd.read_csv(\"tweets.csv\")\n",
    "data.head()"
   ]
  },
  {
   "cell_type": "code",
   "execution_count": 1180,
   "id": "a9b5c853",
   "metadata": {},
   "outputs": [
    {
     "name": "stdout",
     "output_type": "stream",
     "text": [
      "<class 'pandas.core.frame.DataFrame'>\n",
      "RangeIndex: 7920 entries, 0 to 7919\n",
      "Data columns (total 3 columns):\n",
      " #   Column  Non-Null Count  Dtype \n",
      "---  ------  --------------  ----- \n",
      " 0   id      7920 non-null   int64 \n",
      " 1   label   7920 non-null   int64 \n",
      " 2   tweet   7920 non-null   object\n",
      "dtypes: int64(2), object(1)\n",
      "memory usage: 185.8+ KB\n"
     ]
    }
   ],
   "source": [
    "data.info()"
   ]
  },
  {
   "cell_type": "code",
   "execution_count": 1181,
   "id": "3e0869af",
   "metadata": {},
   "outputs": [
    {
     "data": {
      "text/plain": [
       "id       0\n",
       "label    0\n",
       "tweet    0\n",
       "dtype: int64"
      ]
     },
     "execution_count": 1181,
     "metadata": {},
     "output_type": "execute_result"
    }
   ],
   "source": [
    "data.isna().sum()"
   ]
  },
  {
   "cell_type": "code",
   "execution_count": 1182,
   "id": "05627e0c",
   "metadata": {},
   "outputs": [
    {
     "data": {
      "text/html": [
       "<div>\n",
       "<style scoped>\n",
       "    .dataframe tbody tr th:only-of-type {\n",
       "        vertical-align: middle;\n",
       "    }\n",
       "\n",
       "    .dataframe tbody tr th {\n",
       "        vertical-align: top;\n",
       "    }\n",
       "\n",
       "    .dataframe thead th {\n",
       "        text-align: right;\n",
       "    }\n",
       "</style>\n",
       "<table border=\"1\" class=\"dataframe\">\n",
       "  <thead>\n",
       "    <tr style=\"text-align: right;\">\n",
       "      <th></th>\n",
       "      <th>label</th>\n",
       "      <th>tweet</th>\n",
       "    </tr>\n",
       "  </thead>\n",
       "  <tbody>\n",
       "    <tr>\n",
       "      <th>0</th>\n",
       "      <td>0</td>\n",
       "      <td>#fingerprint #Pregnancy Test https://goo.gl/h1...</td>\n",
       "    </tr>\n",
       "    <tr>\n",
       "      <th>1</th>\n",
       "      <td>0</td>\n",
       "      <td>Finally a transparant silicon case ^^ Thanks t...</td>\n",
       "    </tr>\n",
       "    <tr>\n",
       "      <th>2</th>\n",
       "      <td>0</td>\n",
       "      <td>We love this! Would you go? #talk #makememorie...</td>\n",
       "    </tr>\n",
       "    <tr>\n",
       "      <th>3</th>\n",
       "      <td>0</td>\n",
       "      <td>I'm wired I know I'm George I was made that wa...</td>\n",
       "    </tr>\n",
       "    <tr>\n",
       "      <th>4</th>\n",
       "      <td>1</td>\n",
       "      <td>What amazing service! Apple won't even talk to...</td>\n",
       "    </tr>\n",
       "  </tbody>\n",
       "</table>\n",
       "</div>"
      ],
      "text/plain": [
       "   label                                              tweet\n",
       "0      0  #fingerprint #Pregnancy Test https://goo.gl/h1...\n",
       "1      0  Finally a transparant silicon case ^^ Thanks t...\n",
       "2      0  We love this! Would you go? #talk #makememorie...\n",
       "3      0  I'm wired I know I'm George I was made that wa...\n",
       "4      1  What amazing service! Apple won't even talk to..."
      ]
     },
     "execution_count": 1182,
     "metadata": {},
     "output_type": "execute_result"
    }
   ],
   "source": [
    "data.drop(['id'],axis=1,inplace=True)\n",
    "data.head()"
   ]
  },
  {
   "cell_type": "code",
   "execution_count": 1183,
   "id": "f1b69024",
   "metadata": {},
   "outputs": [
    {
     "data": {
      "text/plain": [
       "0    5894\n",
       "1    2026\n",
       "Name: label, dtype: int64"
      ]
     },
     "execution_count": 1183,
     "metadata": {},
     "output_type": "execute_result"
    }
   ],
   "source": [
    "data[\"label\"].value_counts()"
   ]
  },
  {
   "cell_type": "code",
   "execution_count": 1184,
   "id": "019fb4d8",
   "metadata": {},
   "outputs": [],
   "source": [
    "balance = 2026\n",
    "data_negetive = data[data[\"label\"]==0].sample(balance, random_state=0)\n",
    "data_positive = data[data[\"label\"]==1].sample(balance, random_state=0)"
   ]
  },
  {
   "cell_type": "code",
   "execution_count": 1185,
   "id": "1c830eb0",
   "metadata": {},
   "outputs": [],
   "source": [
    "data_balanced = pd.concat([data_negetive,data_positive],axis=0)"
   ]
  },
  {
   "cell_type": "code",
   "execution_count": 1186,
   "id": "c72ebf4c",
   "metadata": {},
   "outputs": [
    {
     "data": {
      "text/plain": [
       "0    2026\n",
       "1    2026\n",
       "Name: label, dtype: int64"
      ]
     },
     "execution_count": 1186,
     "metadata": {},
     "output_type": "execute_result"
    }
   ],
   "source": [
    "data_balanced[\"label\"].value_counts()"
   ]
  },
  {
   "cell_type": "code",
   "execution_count": 1187,
   "id": "2d7f16ea",
   "metadata": {},
   "outputs": [
    {
     "data": {
      "text/html": [
       "<div>\n",
       "<style scoped>\n",
       "    .dataframe tbody tr th:only-of-type {\n",
       "        vertical-align: middle;\n",
       "    }\n",
       "\n",
       "    .dataframe tbody tr th {\n",
       "        vertical-align: top;\n",
       "    }\n",
       "\n",
       "    .dataframe thead th {\n",
       "        text-align: right;\n",
       "    }\n",
       "</style>\n",
       "<table border=\"1\" class=\"dataframe\">\n",
       "  <thead>\n",
       "    <tr style=\"text-align: right;\">\n",
       "      <th></th>\n",
       "      <th>label</th>\n",
       "      <th>tweet</th>\n",
       "    </tr>\n",
       "  </thead>\n",
       "  <tbody>\n",
       "    <tr>\n",
       "      <th>7335</th>\n",
       "      <td>0</td>\n",
       "      <td>love you&lt;3 #friends #hollister #mall #shopping...</td>\n",
       "    </tr>\n",
       "    <tr>\n",
       "      <th>180</th>\n",
       "      <td>0</td>\n",
       "      <td>@nobauerm - lets get you hooked up, fast. w an...</td>\n",
       "    </tr>\n",
       "    <tr>\n",
       "      <th>1028</th>\n",
       "      <td>0</td>\n",
       "      <td>@JocelynB81 that hitler is always up to some f...</td>\n",
       "    </tr>\n",
       "    <tr>\n",
       "      <th>6136</th>\n",
       "      <td>0</td>\n",
       "      <td>Gotcha! Thanks mom! You're the BEST!!! #samsun...</td>\n",
       "    </tr>\n",
       "    <tr>\n",
       "      <th>7142</th>\n",
       "      <td>0</td>\n",
       "      <td>Sweet 15th! Love u!!!!!!! #birthday #dress #15...</td>\n",
       "    </tr>\n",
       "  </tbody>\n",
       "</table>\n",
       "</div>"
      ],
      "text/plain": [
       "      label                                              tweet\n",
       "7335      0  love you<3 #friends #hollister #mall #shopping...\n",
       "180       0  @nobauerm - lets get you hooked up, fast. w an...\n",
       "1028      0  @JocelynB81 that hitler is always up to some f...\n",
       "6136      0  Gotcha! Thanks mom! You're the BEST!!! #samsun...\n",
       "7142      0  Sweet 15th! Love u!!!!!!! #birthday #dress #15..."
      ]
     },
     "execution_count": 1187,
     "metadata": {},
     "output_type": "execute_result"
    }
   ],
   "source": [
    "data_balanced.head()"
   ]
  },
  {
   "cell_type": "code",
   "execution_count": 1188,
   "id": "99e02ed8",
   "metadata": {},
   "outputs": [
    {
     "data": {
      "text/plain": [
       "'@nobauerm - lets get you hooked up, fast. w an #Iphone. U will fall in . I promise.'"
      ]
     },
     "execution_count": 1188,
     "metadata": {},
     "output_type": "execute_result"
    }
   ],
   "source": [
    "data_balanced[\"tweet\"][180]"
   ]
  },
  {
   "cell_type": "code",
   "execution_count": 1189,
   "id": "522a9e84",
   "metadata": {},
   "outputs": [],
   "source": [
    "import contractions"
   ]
  },
  {
   "cell_type": "code",
   "execution_count": 1190,
   "id": "69ffc451",
   "metadata": {},
   "outputs": [
    {
     "data": {
      "text/plain": [
       "{'a',\n",
       " 'about',\n",
       " 'above',\n",
       " 'after',\n",
       " 'again',\n",
       " 'against',\n",
       " 'ain',\n",
       " 'all',\n",
       " 'am',\n",
       " 'an',\n",
       " 'and',\n",
       " 'any',\n",
       " 'are',\n",
       " 'aren',\n",
       " \"aren't\",\n",
       " 'as',\n",
       " 'at',\n",
       " 'be',\n",
       " 'because',\n",
       " 'been',\n",
       " 'before',\n",
       " 'being',\n",
       " 'below',\n",
       " 'between',\n",
       " 'both',\n",
       " 'but',\n",
       " 'by',\n",
       " 'can',\n",
       " 'couldn',\n",
       " \"couldn't\",\n",
       " 'd',\n",
       " 'did',\n",
       " 'didn',\n",
       " \"didn't\",\n",
       " 'do',\n",
       " 'does',\n",
       " 'doesn',\n",
       " \"doesn't\",\n",
       " 'doing',\n",
       " 'don',\n",
       " \"don't\",\n",
       " 'down',\n",
       " 'during',\n",
       " 'each',\n",
       " 'few',\n",
       " 'for',\n",
       " 'from',\n",
       " 'further',\n",
       " 'had',\n",
       " 'hadn',\n",
       " \"hadn't\",\n",
       " 'has',\n",
       " 'hasn',\n",
       " \"hasn't\",\n",
       " 'have',\n",
       " 'haven',\n",
       " \"haven't\",\n",
       " 'having',\n",
       " 'he',\n",
       " 'her',\n",
       " 'here',\n",
       " 'hers',\n",
       " 'herself',\n",
       " 'him',\n",
       " 'himself',\n",
       " 'his',\n",
       " 'how',\n",
       " 'i',\n",
       " 'if',\n",
       " 'in',\n",
       " 'into',\n",
       " 'is',\n",
       " 'isn',\n",
       " \"isn't\",\n",
       " 'it',\n",
       " \"it's\",\n",
       " 'its',\n",
       " 'itself',\n",
       " 'just',\n",
       " 'll',\n",
       " 'm',\n",
       " 'ma',\n",
       " 'me',\n",
       " 'mightn',\n",
       " \"mightn't\",\n",
       " 'more',\n",
       " 'most',\n",
       " 'mustn',\n",
       " \"mustn't\",\n",
       " 'my',\n",
       " 'myself',\n",
       " 'needn',\n",
       " \"needn't\",\n",
       " 'no',\n",
       " 'nor',\n",
       " 'now',\n",
       " 'o',\n",
       " 'of',\n",
       " 'off',\n",
       " 'on',\n",
       " 'once',\n",
       " 'only',\n",
       " 'or',\n",
       " 'other',\n",
       " 'our',\n",
       " 'ours',\n",
       " 'ourselves',\n",
       " 'out',\n",
       " 'over',\n",
       " 'own',\n",
       " 're',\n",
       " 's',\n",
       " 'same',\n",
       " 'shan',\n",
       " \"shan't\",\n",
       " 'she',\n",
       " \"she's\",\n",
       " 'should',\n",
       " \"should've\",\n",
       " 'shouldn',\n",
       " \"shouldn't\",\n",
       " 'so',\n",
       " 'some',\n",
       " 'such',\n",
       " 't',\n",
       " 'than',\n",
       " 'that',\n",
       " \"that'll\",\n",
       " 'the',\n",
       " 'their',\n",
       " 'theirs',\n",
       " 'them',\n",
       " 'themselves',\n",
       " 'then',\n",
       " 'there',\n",
       " 'these',\n",
       " 'they',\n",
       " 'this',\n",
       " 'those',\n",
       " 'through',\n",
       " 'to',\n",
       " 'too',\n",
       " 'under',\n",
       " 'until',\n",
       " 'up',\n",
       " 've',\n",
       " 'very',\n",
       " 'was',\n",
       " 'wasn',\n",
       " \"wasn't\",\n",
       " 'we',\n",
       " 'were',\n",
       " 'weren',\n",
       " \"weren't\",\n",
       " 'what',\n",
       " 'when',\n",
       " 'where',\n",
       " 'which',\n",
       " 'while',\n",
       " 'who',\n",
       " 'whom',\n",
       " 'why',\n",
       " 'will',\n",
       " 'with',\n",
       " 'won',\n",
       " \"won't\",\n",
       " 'wouldn',\n",
       " \"wouldn't\",\n",
       " 'y',\n",
       " 'you',\n",
       " \"you'd\",\n",
       " \"you'll\",\n",
       " \"you're\",\n",
       " \"you've\",\n",
       " 'your',\n",
       " 'yours',\n",
       " 'yourself',\n",
       " 'yourselves'}"
      ]
     },
     "execution_count": 1190,
     "metadata": {},
     "output_type": "execute_result"
    }
   ],
   "source": [
    "from nltk.corpus import stopwords\n",
    "stop_words=set(stopwords.words('english'))\n",
    "stop_words.remove(\"not\")\n",
    "stop_words"
   ]
  },
  {
   "cell_type": "code",
   "execution_count": 1191,
   "id": "3932d223",
   "metadata": {},
   "outputs": [
    {
     "data": {
      "text/plain": [
       "'!\"#$%&\\'()*+,-./:;<=>?@[\\\\]^_`{|}~'"
      ]
     },
     "execution_count": 1191,
     "metadata": {},
     "output_type": "execute_result"
    }
   ],
   "source": [
    "import string\n",
    "string.punctuation"
   ]
  },
  {
   "cell_type": "code",
   "execution_count": 1192,
   "id": "0f11bbaf",
   "metadata": {},
   "outputs": [],
   "source": [
    "# def remove_punctuation(tweet):\n",
    "#     tweet_nonpunct =\"\".join([new_tweet for new_tweet in tweet if new_tweet not in string.punctuation])\n",
    "#     return tweet_nonpunct"
   ]
  },
  {
   "cell_type": "code",
   "execution_count": 1193,
   "id": "448b27ea",
   "metadata": {},
   "outputs": [
    {
     "data": {
      "text/plain": [
       "'@nobauerm - lets get you hooked up, fast. w an #Iphone. U will fall in . I promise.'"
      ]
     },
     "execution_count": 1193,
     "metadata": {},
     "output_type": "execute_result"
    }
   ],
   "source": [
    "# data_balanced[\"tweet\"]=data_balanced[\"tweet\"].apply(remove_punctuation,)\n",
    "data_balanced[\"tweet\"][180]"
   ]
  },
  {
   "cell_type": "code",
   "execution_count": 1194,
   "id": "502cccb0",
   "metadata": {},
   "outputs": [],
   "source": [
    "#هشتاج\n",
    "#url\n",
    "#link\n",
    "#منشن"
   ]
  },
  {
   "cell_type": "code",
   "execution_count": 1223,
   "id": "5f8e95af",
   "metadata": {},
   "outputs": [],
   "source": [
    "# for token in data_balanced:\n",
    "#     if token.pos_ not in [\"x\"]:\n",
    "#         filtered_text = [token]\n",
    "#     clean_text=' '.join(filtered_text)\n",
    "\n",
    "def cleaner(text):\n",
    "    text = re.sub(r\"http\\S+\", \"\", text)\n",
    "    text = re.sub(r\"(#\\w+)\", \"\", text)\n",
    "    text = re.sub(r\"@[A-Za-z0-9]+\", \"\", text)\n",
    "    text = re.sub(r\" +\", \" \", text)\n",
    "    text = contractions.fix(text)\n",
    "    text = re.sub(r\"[^a-zA-Z]\", \" \", text)\n",
    "    text = text.lower()\n",
    "    tokens = word_tokenize(text)\n",
    "    tokens = [token for token in tokens if token not in stop_words]\n",
    "    corrected_tokens = [spell.correction(token) for token in tokens]\n",
    "    filtered_tokens = [token for token in tokens if len(token)>2]\n",
    "    lemmatized_tokens = [lemmatizer.lemmatize(token) for token in filtered_tokens]\n",
    "    lemmatized_text = ' '.join(lemmatized_tokens)\n",
    "    return lemmatized_text"
   ]
  },
  {
   "cell_type": "code",
   "execution_count": null,
   "id": "d2ab2602",
   "metadata": {},
   "outputs": [],
   "source": [
    "data_balanced[\"tweet\"] = data_balanced[\"tweet\"].apply(cleaner)"
   ]
  },
  {
   "cell_type": "code",
   "execution_count": null,
   "id": "9fc1f522",
   "metadata": {},
   "outputs": [],
   "source": [
    "data_balanced.isnull().sum()"
   ]
  },
  {
   "cell_type": "code",
   "execution_count": null,
   "id": "778f3d57",
   "metadata": {},
   "outputs": [],
   "source": [
    "# # def empty(text):\n",
    "# #     doc = nlp(text)\n",
    "# #     filtered_tokens = [token.text for token in doc if token.pos_ not in [\"X\"]]\n",
    "# #     cleaned_text = ' '.join(filtered_tokens)\n",
    "# #     return cleaned_text\n"
   ]
  },
  {
   "cell_type": "code",
   "execution_count": null,
   "id": "d2a62f9d",
   "metadata": {},
   "outputs": [],
   "source": [
    "# data_balanced[\"tweet\"] = data_balanced[\"tweet\"].apply(correct_spelling)"
   ]
  },
  {
   "cell_type": "code",
   "execution_count": null,
   "id": "28336c5c",
   "metadata": {},
   "outputs": [],
   "source": [
    "data_balanced.head()"
   ]
  },
  {
   "cell_type": "code",
   "execution_count": null,
   "id": "d8799181",
   "metadata": {},
   "outputs": [],
   "source": [
    "# from spellchecker import SpellChecker\n",
    "# spell = SpellChecker()\n",
    "# def correct_spelling(text):\n",
    "#     corrected_text = []\n",
    "#     unknown_words = spell.unknown(text.split())\n",
    "#     for word in text.split():\n",
    "#         if word in unknown_words:\n",
    "#             corrected_text.append(word)  \n",
    "#         else:\n",
    "#             corrected_word = spell.correction(word)\n",
    "#             corrected_text.append(corrected_word)\n",
    "#     return \" \".join(corrected_text)"
   ]
  },
  {
   "cell_type": "code",
   "execution_count": null,
   "id": "307c5dd0",
   "metadata": {},
   "outputs": [],
   "source": [
    "# data_balanced['tweet'] = data_balanced['tweet'].apply(remove_unknown_words)"
   ]
  },
  {
   "cell_type": "code",
   "execution_count": null,
   "id": "dbf7815a",
   "metadata": {},
   "outputs": [],
   "source": [
    "data_balanced.head()"
   ]
  },
  {
   "cell_type": "code",
   "execution_count": null,
   "id": "cf64f5c2",
   "metadata": {},
   "outputs": [],
   "source": [
    "# from sklearn.feature_extraction.text import CountVectorizer\n",
    "# cv=countVectorizer\n",
    "# x=cv_fit_transform(data_balanced['tweet'])"
   ]
  },
  {
   "cell_type": "code",
   "execution_count": null,
   "id": "0be1a375",
   "metadata": {},
   "outputs": [],
   "source": [
    "# def extract_unique_named_entities(text):\n",
    "#     doc = nlp(text)\n",
    "#     unique_entities = set([ent.text for ent in doc.ents])\n",
    "#     return unique_entities"
   ]
  },
  {
   "cell_type": "code",
   "execution_count": null,
   "id": "be7d4706",
   "metadata": {},
   "outputs": [],
   "source": [
    "# def extract_named_entities(text):\n",
    "#     doc = nlp(text)\n",
    "#     entities = [ent.label_ for ent in doc.ents]\n",
    "#     return entities"
   ]
  },
  {
   "cell_type": "code",
   "execution_count": null,
   "id": "477632b1",
   "metadata": {},
   "outputs": [],
   "source": [
    "# def display_unique_named_entities(entities):\n",
    "#     print(\"Unique Named Entities:\")\n",
    "#     for entity in entities:\n",
    "#         print(entity)"
   ]
  },
  {
   "cell_type": "code",
   "execution_count": null,
   "id": "5fa5c4db",
   "metadata": {},
   "outputs": [],
   "source": [
    "# data_balanced['tweet'].apply(extract_named_entities).unique()"
   ]
  },
  {
   "cell_type": "code",
   "execution_count": null,
   "id": "1179828f",
   "metadata": {},
   "outputs": [],
   "source": [
    "# entities_to_remove = ['PERSON', 'DATE', 'NORP', 'CARDINAL', 'GPE', 'QUANTITY',\n",
    "#                       'TIME', 'ORDINAL', 'ORG', 'PRODUCT', 'FAC', 'PERCENT', 'MONEY',\n",
    "#                       'LANGUAGE', 'LOC', 'LAW']"
   ]
  },
  {
   "cell_type": "code",
   "execution_count": null,
   "id": "ade93368",
   "metadata": {},
   "outputs": [],
   "source": [
    "# def remove_named_entities(text):\n",
    "#     doc = nlp(text)\n",
    "#     tokens = [token.text for token in doc if token.ent_type_ not in entities_to_remove]\n",
    "#     return ' '.join(tokens)"
   ]
  },
  {
   "cell_type": "code",
   "execution_count": null,
   "id": "727a3c3f",
   "metadata": {},
   "outputs": [],
   "source": [
    "# data_balanced['tweet'] = data_balanced['tweet'].apply(remove_named_entities)"
   ]
  },
  {
   "cell_type": "code",
   "execution_count": null,
   "id": "841a7a4a",
   "metadata": {},
   "outputs": [],
   "source": [
    "# data_balanced[\"tweet\"].apply(extract_named_entities)"
   ]
  },
  {
   "cell_type": "code",
   "execution_count": null,
   "id": "52950a47",
   "metadata": {},
   "outputs": [],
   "source": [
    "# def remove_org_entities(text):\n",
    "#     doc = nlp(text)\n",
    "#     filtered_tokens = [token.text for token in doc if token.ent_type_ not in ['ORG','']]\n",
    "#     cleaned_text = ' '.join(filtered_tokens)\n",
    "#     return cleaned_text"
   ]
  },
  {
   "cell_type": "code",
   "execution_count": null,
   "id": "60e34452",
   "metadata": {},
   "outputs": [],
   "source": [
    "# data_balanced[\"tweet\"] = data_balanced[\"tweet\"].apply(remove_org_entities)"
   ]
  },
  {
   "cell_type": "code",
   "execution_count": null,
   "id": "18b8b22b",
   "metadata": {},
   "outputs": [],
   "source": [
    "# data_balanced[\"tweet\"]"
   ]
  },
  {
   "cell_type": "code",
   "execution_count": null,
   "id": "c59da8eb",
   "metadata": {},
   "outputs": [],
   "source": [
    "from sklearn.feature_extraction.text import TfidfVectorizer\n",
    "tfidf=TfidfVectorizer()"
   ]
  },
  {
   "cell_type": "code",
   "execution_count": null,
   "id": "7a64571a",
   "metadata": {},
   "outputs": [],
   "source": [
    "y=data_balanced['label']\n",
    "x=data_balanced['tweet']"
   ]
  },
  {
   "cell_type": "code",
   "execution_count": null,
   "id": "3d34fd3b",
   "metadata": {},
   "outputs": [],
   "source": [
    "from sklearn.model_selection import train_test_split\n",
    "x_train,x_test,y_train,y_test=train_test_split(x,y,test_size=0.25,random_state=0)"
   ]
  },
  {
   "cell_type": "code",
   "execution_count": null,
   "id": "dbae2fe7",
   "metadata": {},
   "outputs": [],
   "source": [
    "x_train_vectorized=tfidf.fit_transform(x_train)\n",
    "x_test_vectorized = tfidf.transform(x_test)\n",
    "x_train_vectorized"
   ]
  },
  {
   "cell_type": "code",
   "execution_count": null,
   "id": "d888dd7d",
   "metadata": {},
   "outputs": [],
   "source": [
    "from sklearn.linear_model import LogisticRegression\n",
    "regressor=LogisticRegression()\n",
    "regressor.fit(x_train_vectorized,y_train)"
   ]
  },
  {
   "cell_type": "code",
   "execution_count": null,
   "id": "a1b28a54",
   "metadata": {},
   "outputs": [],
   "source": [
    "y_predict = regressor.predict(x_test_vectorized)"
   ]
  },
  {
   "cell_type": "code",
   "execution_count": null,
   "id": "0f4bfa36",
   "metadata": {},
   "outputs": [],
   "source": [
    "accuracy=accuracy_score(y_test,y_predict)\n",
    "accuracy"
   ]
  },
  {
   "cell_type": "code",
   "execution_count": null,
   "id": "d50a98b0",
   "metadata": {},
   "outputs": [],
   "source": [
    "from sklearn.metrics import confusion_matrix\n",
    "cm = confusion_matrix(y_test, y_predict)\n",
    "cm"
   ]
  },
  {
   "cell_type": "code",
   "execution_count": null,
   "id": "0577681f",
   "metadata": {},
   "outputs": [],
   "source": []
  },
  {
   "cell_type": "code",
   "execution_count": null,
   "id": "fca10530",
   "metadata": {},
   "outputs": [],
   "source": []
  },
  {
   "cell_type": "code",
   "execution_count": null,
   "id": "65b4a84e",
   "metadata": {},
   "outputs": [],
   "source": []
  },
  {
   "cell_type": "code",
   "execution_count": null,
   "id": "fb6df45e",
   "metadata": {},
   "outputs": [],
   "source": []
  },
  {
   "cell_type": "code",
   "execution_count": null,
   "id": "644a7197",
   "metadata": {},
   "outputs": [],
   "source": []
  },
  {
   "cell_type": "code",
   "execution_count": null,
   "id": "8ad26e3c",
   "metadata": {},
   "outputs": [],
   "source": []
  },
  {
   "cell_type": "code",
   "execution_count": null,
   "id": "ca722196",
   "metadata": {},
   "outputs": [],
   "source": []
  },
  {
   "cell_type": "code",
   "execution_count": null,
   "id": "08ce8278",
   "metadata": {},
   "outputs": [],
   "source": []
  }
 ],
 "metadata": {
  "kernelspec": {
   "display_name": "Python 3 (ipykernel)",
   "language": "python",
   "name": "python3"
  },
  "language_info": {
   "codemirror_mode": {
    "name": "ipython",
    "version": 3
   },
   "file_extension": ".py",
   "mimetype": "text/x-python",
   "name": "python",
   "nbconvert_exporter": "python",
   "pygments_lexer": "ipython3",
   "version": "3.9.13"
  }
 },
 "nbformat": 4,
 "nbformat_minor": 5
}
